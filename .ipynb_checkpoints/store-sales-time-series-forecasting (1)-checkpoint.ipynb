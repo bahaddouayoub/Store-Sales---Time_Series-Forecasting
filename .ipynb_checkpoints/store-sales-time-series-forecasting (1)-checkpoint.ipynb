{
 "cells": [
  {
   "cell_type": "markdown",
   "metadata": {
    "_cell_guid": "b1076dfc-b9ad-4769-8c92-a6c4dae69d19",
    "_uuid": "8f2839f25d086af736a60e9eeb907d3b93b6e0e5"
   },
   "source": [
    "<center><h1 style=\"color:#1a1a1a;\n",
    "                    font-size:3em\">\n",
    "          Machine learning\n",
    "        </h1> \n",
    "        <h2 style=\"color:#1a1a1a;\n",
    "                    font-size:2em\">\n",
    "        Utiliser l'apprentissage automatique pour prédire les ventes d'épicerie\n",
    "       </h2>\n",
    "</center>"
   ]
  },
  {
   "cell_type": "markdown",
   "metadata": {
    "execution": {
     "iopub.execute_input": "2022-05-22T21:43:02.740682Z",
     "iopub.status.busy": "2022-05-22T21:43:02.740367Z",
     "iopub.status.idle": "2022-05-22T21:43:02.748889Z",
     "shell.execute_reply": "2022-05-22T21:43:02.747676Z",
     "shell.execute_reply.started": "2022-05-22T21:43:02.740651Z"
    }
   },
   "source": [
    "<!-- <p style=\"font-size:1.2em;font-familly:Palatino;\">Dans ce concours, vous prédisez les ventes des milliers de familles de produits vendues dans les magasins Favorita situés en Équateur. Les données de formation comprennent les dates, les informations sur le magasin et le produit, si cet article a été promu, ainsi que les chiffres de vente. Les fichiers supplémentaires incluent des informations supplémentaires qui peuvent être utiles pour créer vos modèles. -->"
   ]
  },
  {
   "cell_type": "code",
   "execution_count": 2,
   "metadata": {
    "execution": {
     "iopub.execute_input": "2022-05-23T14:14:20.318496Z",
     "iopub.status.busy": "2022-05-23T14:14:20.317907Z",
     "iopub.status.idle": "2022-05-23T14:14:20.325417Z",
     "shell.execute_reply": "2022-05-23T14:14:20.324102Z",
     "shell.execute_reply.started": "2022-05-23T14:14:20.318461Z"
    }
   },
   "outputs": [],
   "source": [
    "import numpy as np # linear algebra\n",
    "import pandas as pd # data processing, CSV file I/O (e.g. pd.read_csv)\n",
    "import seaborn as sns\n",
    "import matplotlib.pyplot as plt\n",
    "from pandas.plotting import scatter_matrix\n",
    "import plotly.express as px\n",
    "from sklearn.linear_model import LinearRegression\n",
    "from sklearn.ensemble import RandomForestRegressor\n",
    "from sklearn.model_selection import train_test_split\n",
    "# from xgboost import XGBRegressor\n",
    "from sklearn.metrics import mean_squared_log_error\n",
    "from sklearn.model_selection import learning_curve"
   ]
  },
  {
   "cell_type": "markdown",
   "metadata": {},
   "source": [
    "<!-- <h3 style=\"color:grey;font-size:1.8em;\">Descriptions des fichiers et informations sur les champs de données</h3>\n",
    "<span style=\"color:grey; font-size:1.4em\"><b>Les données d'entraînement</ b>, comprenant des séries chronologiques de fonctionnalités store_nbr , family et onpromotion ainsi que les ventes cibles  </span></br>\n",
    "<span style=\"color:grey; font-size:1.4em\"><b>Les données de test</ b>, ayant les mêmes caractéristiques que les données d'apprentissage. Vous allez prédire les ventes cibles pour les dates de ce fichier.\n",
    "Les dates dans les données de test correspondent aux 15 jours suivant la dernière date dans les données d'entraînement.  </span>\n",
    "\n",
    "<span style=\"color:grey; font-size:1.4em\"><b>les données de magasins</b> stockez les métadonnées, y compris city , state , type et cluster .\n",
    "cluster est un regroupement de magasins similaires.  </span>\n",
    "\n",
    "<span style=\"color:grey; font-size:1.4em\"><b>les données de huile</b>  prix ​​journalier du pétrole. Inclut des valeurs pendant les périodes de données de train et de test. (L'Équateur est un pays dépendant du pétrole et sa santé économique est très vulnérable aux chocs des prix du pétrole.) </span>\n",
    "\n",
    "<span style=\"color:grey; font-size:1.4em\"> <b>les données sur les vacances</b>   jours fériés et événements, avec métadonnées </span> -->"
   ]
  },
  {
   "cell_type": "markdown",
   "metadata": {},
   "source": [
    "<h3 style=\"color:grey;font-familly:Palatino;font-size:1.8em;\"> Lire les données de toutes les sources de données et les conserver "
   ]
  },
  {
   "cell_type": "code",
   "execution_count": 3,
   "metadata": {
    "execution": {
     "iopub.execute_input": "2022-05-23T14:14:26.256059Z",
     "iopub.status.busy": "2022-05-23T14:14:26.255727Z",
     "iopub.status.idle": "2022-05-23T14:14:28.389482Z",
     "shell.execute_reply": "2022-05-23T14:14:28.388326Z",
     "shell.execute_reply.started": "2022-05-23T14:14:26.256028Z"
    }
   },
   "outputs": [],
   "source": [
    "train_df = pd.read_csv('datasets/train.csv')\n",
    "test_df = pd.read_csv('datasets/test.csv')\n",
    "store_df = pd.read_csv('datasets/stores.csv')\n",
    "tr_df = pd.read_csv('datasets/transactions.csv')\n",
    "oil_df = pd.read_csv('datasets/oil.csv')\n",
    "hol_df = pd.read_csv('datasets/holidays_events.csv')\n",
    "sample_df = pd.read_csv('datasets/sample_submission.csv')\n"
   ]
  },
  {
   "cell_type": "markdown",
   "metadata": {},
   "source": [
    "<h3 style=\"color:grey;font-familly:Palatino;font-size:1.8em;\"> Analyse de données</h3>\n",
    "    \n",
    "<p style=\"font-size:1.4em;font-familly:Palatino;\">    premierement afficher les données d'entraînement et le nombre de lignes, de colonnes, le type de données, etc."
   ]
  },
  {
   "cell_type": "code",
   "execution_count": 4,
   "metadata": {
    "execution": {
     "iopub.execute_input": "2022-05-23T14:10:00.371380Z",
     "iopub.status.busy": "2022-05-23T14:10:00.371052Z",
     "iopub.status.idle": "2022-05-23T14:10:00.636009Z",
     "shell.execute_reply": "2022-05-23T14:10:00.635228Z",
     "shell.execute_reply.started": "2022-05-23T14:10:00.371339Z"
    }
   },
   "outputs": [
    {
     "data": {
      "text/html": [
       "<div>\n",
       "<style scoped>\n",
       "    .dataframe tbody tr th:only-of-type {\n",
       "        vertical-align: middle;\n",
       "    }\n",
       "\n",
       "    .dataframe tbody tr th {\n",
       "        vertical-align: top;\n",
       "    }\n",
       "\n",
       "    .dataframe thead th {\n",
       "        text-align: right;\n",
       "    }\n",
       "</style>\n",
       "<table border=\"1\" class=\"dataframe\">\n",
       "  <thead>\n",
       "    <tr style=\"text-align: right;\">\n",
       "      <th></th>\n",
       "      <th>id</th>\n",
       "      <th>date</th>\n",
       "      <th>store_nbr</th>\n",
       "      <th>family</th>\n",
       "      <th>sales</th>\n",
       "      <th>onpromotion</th>\n",
       "    </tr>\n",
       "  </thead>\n",
       "  <tbody>\n",
       "    <tr>\n",
       "      <th>1003257</th>\n",
       "      <td>1003257</td>\n",
       "      <td>2014-07-18</td>\n",
       "      <td>9</td>\n",
       "      <td>MEATS</td>\n",
       "      <td>232.2550</td>\n",
       "      <td>0</td>\n",
       "    </tr>\n",
       "    <tr>\n",
       "      <th>762790</th>\n",
       "      <td>762790</td>\n",
       "      <td>2014-03-06</td>\n",
       "      <td>11</td>\n",
       "      <td>POULTRY</td>\n",
       "      <td>824.9539</td>\n",
       "      <td>0</td>\n",
       "    </tr>\n",
       "    <tr>\n",
       "      <th>1908593</th>\n",
       "      <td>1908593</td>\n",
       "      <td>2015-12-10</td>\n",
       "      <td>11</td>\n",
       "      <td>BREAD/BAKERY</td>\n",
       "      <td>424.0000</td>\n",
       "      <td>1</td>\n",
       "    </tr>\n",
       "    <tr>\n",
       "      <th>580314</th>\n",
       "      <td>580314</td>\n",
       "      <td>2013-11-22</td>\n",
       "      <td>41</td>\n",
       "      <td>DELI</td>\n",
       "      <td>115.3950</td>\n",
       "      <td>0</td>\n",
       "    </tr>\n",
       "    <tr>\n",
       "      <th>2954132</th>\n",
       "      <td>2954132</td>\n",
       "      <td>2017-07-20</td>\n",
       "      <td>47</td>\n",
       "      <td>BREAD/BAKERY</td>\n",
       "      <td>939.9230</td>\n",
       "      <td>0</td>\n",
       "    </tr>\n",
       "  </tbody>\n",
       "</table>\n",
       "</div>"
      ],
      "text/plain": [
       "              id        date  store_nbr        family     sales  onpromotion\n",
       "1003257  1003257  2014-07-18          9         MEATS  232.2550            0\n",
       "762790    762790  2014-03-06         11       POULTRY  824.9539            0\n",
       "1908593  1908593  2015-12-10         11  BREAD/BAKERY  424.0000            1\n",
       "580314    580314  2013-11-22         41          DELI  115.3950            0\n",
       "2954132  2954132  2017-07-20         47  BREAD/BAKERY  939.9230            0"
      ]
     },
     "execution_count": 4,
     "metadata": {},
     "output_type": "execute_result"
    }
   ],
   "source": [
    "train_df=train_df[train_df.sales>0]\n",
    "train_df.sample(5)"
   ]
  },
  {
   "cell_type": "code",
   "execution_count": 4,
   "metadata": {
    "execution": {
     "iopub.execute_input": "2022-05-23T14:10:00.638410Z",
     "iopub.status.busy": "2022-05-23T14:10:00.638077Z",
     "iopub.status.idle": "2022-05-23T14:10:00.662477Z",
     "shell.execute_reply": "2022-05-23T14:10:00.661836Z",
     "shell.execute_reply.started": "2022-05-23T14:10:00.638377Z"
    }
   },
   "outputs": [],
   "source": [
    "np.sort(train_df.store_nbr.unique())"
   ]
  },
  {
   "cell_type": "markdown",
   "metadata": {},
   "source": [
    " <span style=\"color:grey; font-size:1.4em\"> les familles de produits que nos dataset d'entrainement y compris"
   ]
  },
  {
   "cell_type": "code",
   "execution_count": 5,
   "metadata": {
    "execution": {
     "iopub.execute_input": "2022-05-23T14:10:00.664650Z",
     "iopub.status.busy": "2022-05-23T14:10:00.664052Z",
     "iopub.status.idle": "2022-05-23T14:10:01.003583Z",
     "shell.execute_reply": "2022-05-23T14:10:01.002497Z",
     "shell.execute_reply.started": "2022-05-23T14:10:00.664606Z"
    }
   },
   "outputs": [],
   "source": [
    "# train_df.family.unique()\n",
    "print(\"la taille des données\",train_df.shape)\n",
    "print(\"---------------------------------------------------\")\n",
    "print(\"---------------------------------------------------\")\n",
    "\n",
    "print(\"les différents valeures sont de la colonne family : \\n\",train_df[\"family\"].value_counts())"
   ]
  },
  {
   "cell_type": "code",
   "execution_count": 6,
   "metadata": {
    "execution": {
     "iopub.execute_input": "2022-05-23T14:10:01.005383Z",
     "iopub.status.busy": "2022-05-23T14:10:01.004983Z",
     "iopub.status.idle": "2022-05-23T14:10:01.470565Z",
     "shell.execute_reply": "2022-05-23T14:10:01.469672Z",
     "shell.execute_reply.started": "2022-05-23T14:10:01.005349Z"
    }
   },
   "outputs": [],
   "source": [
    "train_df.isna().sum()\n"
   ]
  },
  {
   "cell_type": "code",
   "execution_count": 7,
   "metadata": {
    "execution": {
     "iopub.execute_input": "2022-05-23T14:10:01.472018Z",
     "iopub.status.busy": "2022-05-23T14:10:01.471797Z",
     "iopub.status.idle": "2022-05-23T14:10:01.487820Z",
     "shell.execute_reply": "2022-05-23T14:10:01.487064Z",
     "shell.execute_reply.started": "2022-05-23T14:10:01.471991Z"
    }
   },
   "outputs": [],
   "source": [
    "train_df.info()"
   ]
  },
  {
   "cell_type": "code",
   "execution_count": 8,
   "metadata": {
    "execution": {
     "iopub.execute_input": "2022-05-23T14:10:01.489689Z",
     "iopub.status.busy": "2022-05-23T14:10:01.488871Z",
     "iopub.status.idle": "2022-05-23T14:10:01.738089Z",
     "shell.execute_reply": "2022-05-23T14:10:01.737219Z",
     "shell.execute_reply.started": "2022-05-23T14:10:01.489652Z"
    }
   },
   "outputs": [],
   "source": [
    "train_df.describe()"
   ]
  },
  {
   "cell_type": "code",
   "execution_count": 9,
   "metadata": {
    "execution": {
     "iopub.execute_input": "2022-05-23T14:10:01.739636Z",
     "iopub.status.busy": "2022-05-23T14:10:01.739417Z",
     "iopub.status.idle": "2022-05-23T14:10:01.922242Z",
     "shell.execute_reply": "2022-05-23T14:10:01.921061Z",
     "shell.execute_reply.started": "2022-05-23T14:10:01.739610Z"
    }
   },
   "outputs": [],
   "source": [
    "num_data = train_df.select_dtypes(include=[np.number])\n",
    "cat_data = train_df.select_dtypes(exclude=[np.number])\n",
    "\n",
    "for dataset in num_data:\n",
    "    print(\"la medain des valeures  \",num_data[dataset].name,\"est \",num_data[dataset].median())\n",
    "    print(\"la moyenndes valeures  \",num_data[dataset].name,\"est \",num_data[dataset].mean())\n",
    "    print(\"la variance des données utiliser  \",train_df[dataset].name,\"est \",train_df[dataset].var())\n",
    "    print(\"-----------------------------------------\")\n",
    "    print(\"-----------------------------------------\")"
   ]
  },
  {
   "cell_type": "code",
   "execution_count": 10,
   "metadata": {
    "execution": {
     "iopub.execute_input": "2022-05-23T14:10:01.926108Z",
     "iopub.status.busy": "2022-05-23T14:10:01.925117Z",
     "iopub.status.idle": "2022-05-23T14:10:01.978353Z",
     "shell.execute_reply": "2022-05-23T14:10:01.977284Z",
     "shell.execute_reply.started": "2022-05-23T14:10:01.926052Z"
    }
   },
   "outputs": [],
   "source": [
    "# to know how the each store have done the business\n",
    "train_df.groupby(by='store_nbr')['sales'].sum()"
   ]
  },
  {
   "cell_type": "code",
   "execution_count": 11,
   "metadata": {
    "execution": {
     "iopub.execute_input": "2022-05-23T14:10:01.979957Z",
     "iopub.status.busy": "2022-05-23T14:10:01.979702Z",
     "iopub.status.idle": "2022-05-23T14:10:02.265498Z",
     "shell.execute_reply": "2022-05-23T14:10:02.264457Z",
     "shell.execute_reply.started": "2022-05-23T14:10:01.979927Z"
    }
   },
   "outputs": [],
   "source": [
    "# to know how the each store have done the business\n",
    "train_df.groupby(by='store_nbr')['sales'].sum().hist()\n",
    "plt.show()"
   ]
  },
  {
   "cell_type": "code",
   "execution_count": 12,
   "metadata": {
    "execution": {
     "iopub.execute_input": "2022-05-23T14:10:02.267616Z",
     "iopub.status.busy": "2022-05-23T14:10:02.267289Z",
     "iopub.status.idle": "2022-05-23T14:10:02.444958Z",
     "shell.execute_reply": "2022-05-23T14:10:02.443971Z",
     "shell.execute_reply.started": "2022-05-23T14:10:02.267573Z"
    }
   },
   "outputs": [],
   "source": [
    "#visual of of the store sales plot, we can clearly see once there are some outliers (huge sales on few days)\n",
    "# fig = px.scatter(train_df[train_df.store_nbr==1], x=\"date\", y=\"sales\")\n",
    "# fig.show()\n",
    "train_df[train_df.store_nbr==1][\"sales\"].plot(kind='box', subplots=True, layout=(1,1), sharex=False, sharey=False)\n",
    "plt.show()"
   ]
  },
  {
   "cell_type": "code",
   "execution_count": 13,
   "metadata": {
    "execution": {
     "iopub.execute_input": "2022-05-23T14:10:02.446389Z",
     "iopub.status.busy": "2022-05-23T14:10:02.446148Z",
     "iopub.status.idle": "2022-05-23T14:10:05.047984Z",
     "shell.execute_reply": "2022-05-23T14:10:05.047017Z",
     "shell.execute_reply.started": "2022-05-23T14:10:02.446353Z"
    }
   },
   "outputs": [],
   "source": [
    "#deving date form to different forms of month, year, day for future analysis\n",
    "\n",
    "train_df['month'] = pd.to_datetime(train_df['date']).dt.month\n",
    "train_df['day'] = pd.to_datetime(train_df['date']).dt.day\n",
    "train_df['day_name'] = pd.to_datetime(train_df['date']).dt.day_name()\n",
    "train_df['year'] = pd.to_datetime(train_df['date']).dt.year\n",
    "train_df.head(1)"
   ]
  },
  {
   "cell_type": "code",
   "execution_count": 14,
   "metadata": {
    "execution": {
     "iopub.execute_input": "2022-05-23T14:10:05.049429Z",
     "iopub.status.busy": "2022-05-23T14:10:05.049187Z",
     "iopub.status.idle": "2022-05-23T14:10:06.334893Z",
     "shell.execute_reply": "2022-05-23T14:10:06.333903Z",
     "shell.execute_reply.started": "2022-05-23T14:10:05.049400Z"
    }
   },
   "outputs": [],
   "source": [
    "# check the sales across the months to understand the pattern. In this case we clearly \n",
    "# don't see gradual increase of sales for any stores over time. more or less all stores \n",
    "# are doing same business  from previous months\n",
    "\n",
    "table = pd.pivot_table(train_df, values ='sales', index =['store_nbr'],\n",
    "                         columns =['month'], aggfunc = np.sum)\n",
    "fig, ax = plt.subplots(figsize=(15,12))         \n",
    "sns.heatmap(table, annot=False, linewidths=.5, ax=ax, cmap=\"YlGnBu\")\n",
    "plt.show()"
   ]
  },
  {
   "cell_type": "code",
   "execution_count": 15,
   "metadata": {
    "execution": {
     "iopub.execute_input": "2022-05-23T14:10:06.337045Z",
     "iopub.status.busy": "2022-05-23T14:10:06.336507Z",
     "iopub.status.idle": "2022-05-23T14:10:07.172763Z",
     "shell.execute_reply": "2022-05-23T14:10:07.172121Z",
     "shell.execute_reply.started": "2022-05-23T14:10:06.336994Z"
    }
   },
   "outputs": [],
   "source": [
    "# check how the different family is impacting the sales, clearly here we have a pattern here, we will use \n",
    "# this information later for feature engineering. \n",
    "\n",
    "table1 = pd.pivot_table(train_df, values ='sales', index =['family'], aggfunc = np.sum)\n",
    "fig, ax = plt.subplots(figsize=(10,10))         \n",
    "sns.heatmap(table1, annot=True, linewidths=.5, ax=ax, cmap=\"YlGnBu\")\n",
    "plt.show()"
   ]
  },
  {
   "cell_type": "code",
   "execution_count": 16,
   "metadata": {
    "execution": {
     "iopub.execute_input": "2022-05-23T14:10:07.174534Z",
     "iopub.status.busy": "2022-05-23T14:10:07.173807Z",
     "iopub.status.idle": "2022-05-23T14:10:07.187245Z",
     "shell.execute_reply": "2022-05-23T14:10:07.186515Z",
     "shell.execute_reply.started": "2022-05-23T14:10:07.174486Z"
    }
   },
   "outputs": [],
   "source": [
    "# percentage of sales contributed by each family \n",
    "\n",
    "total_sum = table1.sales.sum()\n",
    "table1/total_sum"
   ]
  },
  {
   "cell_type": "code",
   "execution_count": 17,
   "metadata": {
    "execution": {
     "iopub.execute_input": "2022-05-23T14:10:07.188647Z",
     "iopub.status.busy": "2022-05-23T14:10:07.188329Z",
     "iopub.status.idle": "2022-05-23T14:10:08.770944Z",
     "shell.execute_reply": "2022-05-23T14:10:08.770254Z",
     "shell.execute_reply.started": "2022-05-23T14:10:07.188619Z"
    }
   },
   "outputs": [],
   "source": [
    "# taking two stores [1 and 2] for checking the impact of promotion on sales.\n",
    "# clearly there is a week bound between sales and promotion. \n",
    "import plotly.express as px\n",
    "fig = px.scatter(train_df[train_df.store_nbr==1], x=\"onpromotion\", y=\"sales\")\n",
    "fig.show()\n"
   ]
  },
  {
   "cell_type": "code",
   "execution_count": 18,
   "metadata": {
    "execution": {
     "iopub.execute_input": "2022-05-23T14:10:08.772755Z",
     "iopub.status.busy": "2022-05-23T14:10:08.772105Z",
     "iopub.status.idle": "2022-05-23T14:10:09.021028Z",
     "shell.execute_reply": "2022-05-23T14:10:09.020159Z",
     "shell.execute_reply.started": "2022-05-23T14:10:08.772705Z"
    }
   },
   "outputs": [],
   "source": [
    "import plotly.express as px\n",
    "fig = px.scatter(train_df[train_df.store_nbr==2], x=\"onpromotion\", y=\"sales\")\n",
    "fig.show()\n"
   ]
  },
  {
   "cell_type": "code",
   "execution_count": 19,
   "metadata": {
    "execution": {
     "iopub.execute_input": "2022-05-23T14:10:09.022773Z",
     "iopub.status.busy": "2022-05-23T14:10:09.022503Z",
     "iopub.status.idle": "2022-05-23T14:10:19.362986Z",
     "shell.execute_reply": "2022-05-23T14:10:19.361610Z",
     "shell.execute_reply.started": "2022-05-23T14:10:09.022741Z"
    }
   },
   "outputs": [],
   "source": [
    "# total sales with and without promotion, because of huge data \n",
    "# withoug promotion, this graph isn't helping for analysis\n",
    "import plotly.express as px\n",
    "df = px.data.tips()\n",
    "fig = px.histogram(train_df[train_df.onpromotion<200], x=\"onpromotion\", nbins=20)\n",
    "fig.show()\n"
   ]
  },
  {
   "cell_type": "code",
   "execution_count": 20,
   "metadata": {
    "execution": {
     "iopub.execute_input": "2022-05-23T14:10:19.364999Z",
     "iopub.status.busy": "2022-05-23T14:10:19.364234Z",
     "iopub.status.idle": "2022-05-23T14:10:19.831722Z",
     "shell.execute_reply": "2022-05-23T14:10:19.830844Z",
     "shell.execute_reply.started": "2022-05-23T14:10:19.364954Z"
    }
   },
   "outputs": [],
   "source": [
    "# checking if any day of the week have impact on sales, clearly we can see weekend sales is always high\n",
    "# will use this information for feature engineering.\n",
    "\n",
    "table3 = pd.pivot_table(train_df, values ='sales', index =['day_name'], aggfunc = np.sum)\n",
    "fig, ax = plt.subplots(figsize=(10,10))         \n",
    "sns.heatmap(table3, annot=True, linewidths=.5, ax=ax, cmap=\"YlGnBu\")\n",
    "plt.show()"
   ]
  },
  {
   "cell_type": "code",
   "execution_count": 21,
   "metadata": {
    "execution": {
     "iopub.execute_input": "2022-05-23T14:10:19.833270Z",
     "iopub.status.busy": "2022-05-23T14:10:19.833010Z",
     "iopub.status.idle": "2022-05-23T14:10:20.725479Z",
     "shell.execute_reply": "2022-05-23T14:10:20.724325Z",
     "shell.execute_reply.started": "2022-05-23T14:10:19.833240Z"
    }
   },
   "outputs": [],
   "source": [
    "# checking if the sales year have any impact, there is a weak co-relation with year and sales.  \n",
    "table_year = pd.pivot_table(train_df, values ='sales', index =['store_nbr'],\n",
    "                         columns =['year'], aggfunc = np.sum)\n",
    "\n",
    "fig, ax = plt.subplots(figsize=(15,12))         \n",
    "sns.heatmap(table_year, annot=False, linewidths=.5, ax=ax, cmap=\"YlGnBu\")\n",
    "plt.show()"
   ]
  },
  {
   "cell_type": "markdown",
   "metadata": {},
   "source": [
    "# manipulating the training data for model building/ feature engineering"
   ]
  },
  {
   "cell_type": "code",
   "execution_count": 22,
   "metadata": {
    "execution": {
     "iopub.execute_input": "2022-05-23T14:10:20.727344Z",
     "iopub.status.busy": "2022-05-23T14:10:20.727008Z",
     "iopub.status.idle": "2022-05-23T14:10:21.001791Z",
     "shell.execute_reply": "2022-05-23T14:10:21.001017Z",
     "shell.execute_reply.started": "2022-05-23T14:10:20.727301Z"
    }
   },
   "outputs": [],
   "source": [
    "# from analysis it was seen that few members sales was high, depending upon sales proportion \n",
    "# making the groups for family\n",
    "\n",
    "family_map       = {'AUTOMOTIVE': 'rest',\n",
    "                   'BABY CARE': 'rest',\n",
    "                   'BEAUTY': 'rest',\n",
    "                   'BOOKS': 'rest',\n",
    "                   'CELEBRATION': 'rest',\n",
    "                   'GROCERY II': 'rest',\n",
    "                   'HARDWARE': 'rest',\n",
    "                   'HOME AND KITCHEN I': 'rest',\n",
    "                   'HOME AND KITCHEN II': 'rest',\n",
    "                   'HOME APPLIANCES': 'rest',\n",
    "                   'LADIESWEAR': 'rest',\n",
    "                   'LAWN AND GARDEN': 'rest',\n",
    "                   'LINGERIE': 'rest',\n",
    "                   'MAGAZINES': 'rest',\n",
    "                   'PET SUPPLIES': 'rest',\n",
    "                   'PLAYERS AND ELECTRONICS': 'rest',\n",
    "                   'SCHOOL AND OFFICE SUPPLIES': 'rest',\n",
    "                   'SEAFOOD': 'rest',\n",
    "                   'DELI': 'first_sec',\n",
    "                    'EGGS': 'first_sec',\n",
    "                    'FROZEN FOODS': 'first_sec',\n",
    "                    'HOME CARE': 'first_sec',\n",
    "                    'LIQUOR,WINE,BEER': 'first_sec',\n",
    "                    'PREPARED FOODS': 'first_sec',\n",
    "                    'PERSONAL CARE': 'first_sec',\n",
    "                    'BREAD/BAKERY': 'third',\n",
    "                    'MEATS': 'third',\n",
    "                    'POULTRY': 'third',\n",
    "                    'CLEANING':'fourth',\n",
    "                    'DAIRY':'fourth',\n",
    "                    'PRODUCE':'seventh',\n",
    "                    'BEVERAGES':'fifth',\n",
    "                    'GROCERY I': 'sixth'\n",
    "                   }\n",
    "\n",
    "train_df['new_family'] = train_df['family'].map(family_map)\n",
    "train_df.head(2)"
   ]
  },
  {
   "cell_type": "code",
   "execution_count": 23,
   "metadata": {
    "execution": {
     "iopub.execute_input": "2022-05-23T14:10:21.006567Z",
     "iopub.status.busy": "2022-05-23T14:10:21.006264Z",
     "iopub.status.idle": "2022-05-23T14:10:21.013761Z",
     "shell.execute_reply": "2022-05-23T14:10:21.012480Z",
     "shell.execute_reply.started": "2022-05-23T14:10:21.006534Z"
    }
   },
   "outputs": [],
   "source": [
    "# Handling the ouliers."
   ]
  },
  {
   "cell_type": "code",
   "execution_count": 24,
   "metadata": {
    "execution": {
     "iopub.execute_input": "2022-05-23T14:10:21.015385Z",
     "iopub.status.busy": "2022-05-23T14:10:21.014965Z",
     "iopub.status.idle": "2022-05-23T14:10:21.542919Z",
     "shell.execute_reply": "2022-05-23T14:10:21.541830Z",
     "shell.execute_reply.started": "2022-05-23T14:10:21.015353Z"
    }
   },
   "outputs": [],
   "source": [
    "# graph for before handling the oulier \n",
    "import plotly.express as px\n",
    "fig = px.scatter(train_df[train_df.store_nbr==4], x=\"date\", y=\"sales\")\n",
    "fig.show()\n"
   ]
  },
  {
   "cell_type": "code",
   "execution_count": 25,
   "metadata": {
    "execution": {
     "iopub.execute_input": "2022-05-23T14:10:21.544450Z",
     "iopub.status.busy": "2022-05-23T14:10:21.544170Z",
     "iopub.status.idle": "2022-05-23T14:10:40.757297Z",
     "shell.execute_reply": "2022-05-23T14:10:40.756391Z",
     "shell.execute_reply.started": "2022-05-23T14:10:21.544415Z"
    }
   },
   "outputs": [],
   "source": [
    "# handling the ouliers for each store\n",
    "\n",
    "for i in range(1,len(train_df.store_nbr.unique())+1):\n",
    "    val = train_df[train_df.store_nbr == i].sales.quantile(0.99)\n",
    "    train_df = train_df.drop(train_df[(train_df.store_nbr==i) & (train_df.sales > val)].index)"
   ]
  },
  {
   "cell_type": "code",
   "execution_count": 26,
   "metadata": {
    "execution": {
     "iopub.execute_input": "2022-05-23T14:10:40.759111Z",
     "iopub.status.busy": "2022-05-23T14:10:40.758786Z",
     "iopub.status.idle": "2022-05-23T14:10:41.180757Z",
     "shell.execute_reply": "2022-05-23T14:10:41.179845Z",
     "shell.execute_reply.started": "2022-05-23T14:10:40.759070Z"
    }
   },
   "outputs": [],
   "source": [
    "#after handling the ouliers\n",
    "# after removing the outlier columns we will loose nealry 1% of the total rows for all the stores.\n",
    "fig = px.scatter(train_df[train_df.store_nbr==4], x=\"date\", y=\"sales\")\n",
    "fig.show()"
   ]
  },
  {
   "cell_type": "markdown",
   "metadata": {},
   "source": [
    "# analysis with store metadata and holiday data"
   ]
  },
  {
   "cell_type": "code",
   "execution_count": 27,
   "metadata": {
    "execution": {
     "iopub.execute_input": "2022-05-23T14:10:41.182540Z",
     "iopub.status.busy": "2022-05-23T14:10:41.181959Z",
     "iopub.status.idle": "2022-05-23T14:10:41.188284Z",
     "shell.execute_reply": "2022-05-23T14:10:41.187382Z",
     "shell.execute_reply.started": "2022-05-23T14:10:41.182500Z"
    }
   },
   "outputs": [],
   "source": [
    "store_df.shape"
   ]
  },
  {
   "cell_type": "code",
   "execution_count": 28,
   "metadata": {
    "execution": {
     "iopub.execute_input": "2022-05-23T14:10:41.189870Z",
     "iopub.status.busy": "2022-05-23T14:10:41.189630Z",
     "iopub.status.idle": "2022-05-23T14:10:42.232247Z",
     "shell.execute_reply": "2022-05-23T14:10:42.231233Z",
     "shell.execute_reply.started": "2022-05-23T14:10:41.189840Z"
    }
   },
   "outputs": [],
   "source": [
    "# merging the store data with training data\n",
    "train_df = pd.merge(train_df, store_df, on='store_nbr', how='left') \n",
    "train_df.head(3)"
   ]
  },
  {
   "cell_type": "code",
   "execution_count": 29,
   "metadata": {
    "execution": {
     "iopub.execute_input": "2022-05-23T14:10:42.233871Z",
     "iopub.status.busy": "2022-05-23T14:10:42.233542Z",
     "iopub.status.idle": "2022-05-23T14:10:42.248515Z",
     "shell.execute_reply": "2022-05-23T14:10:42.247111Z",
     "shell.execute_reply.started": "2022-05-23T14:10:42.233836Z"
    }
   },
   "outputs": [],
   "source": [
    "#holiday data\n",
    "hol_df.head(2)"
   ]
  },
  {
   "cell_type": "code",
   "execution_count": 30,
   "metadata": {
    "execution": {
     "iopub.execute_input": "2022-05-23T14:10:42.249966Z",
     "iopub.status.busy": "2022-05-23T14:10:42.249672Z",
     "iopub.status.idle": "2022-05-23T14:10:42.265629Z",
     "shell.execute_reply": "2022-05-23T14:10:42.264551Z",
     "shell.execute_reply.started": "2022-05-23T14:10:42.249934Z"
    }
   },
   "outputs": [],
   "source": [
    "# types of holidays\n",
    "hol_df.locale.unique()"
   ]
  },
  {
   "cell_type": "code",
   "execution_count": 31,
   "metadata": {
    "execution": {
     "iopub.execute_input": "2022-05-23T14:10:42.267705Z",
     "iopub.status.busy": "2022-05-23T14:10:42.267013Z",
     "iopub.status.idle": "2022-05-23T14:10:42.279278Z",
     "shell.execute_reply": "2022-05-23T14:10:42.278370Z",
     "shell.execute_reply.started": "2022-05-23T14:10:42.267635Z"
    }
   },
   "outputs": [],
   "source": [
    "# unique local names (this info combining with store meta data will help in merging with trining data)\n",
    "hol_df.locale_name.unique()"
   ]
  },
  {
   "cell_type": "code",
   "execution_count": 32,
   "metadata": {
    "execution": {
     "iopub.execute_input": "2022-05-23T14:10:42.282926Z",
     "iopub.status.busy": "2022-05-23T14:10:42.282680Z",
     "iopub.status.idle": "2022-05-23T14:10:42.292168Z",
     "shell.execute_reply": "2022-05-23T14:10:42.291495Z",
     "shell.execute_reply.started": "2022-05-23T14:10:42.282898Z"
    }
   },
   "outputs": [],
   "source": [
    "# unique city data\n",
    "store_df.city.unique()"
   ]
  },
  {
   "cell_type": "code",
   "execution_count": 33,
   "metadata": {
    "execution": {
     "iopub.execute_input": "2022-05-23T14:10:42.293710Z",
     "iopub.status.busy": "2022-05-23T14:10:42.293460Z",
     "iopub.status.idle": "2022-05-23T14:10:42.306123Z",
     "shell.execute_reply": "2022-05-23T14:10:42.305507Z",
     "shell.execute_reply.started": "2022-05-23T14:10:42.293680Z"
    }
   },
   "outputs": [],
   "source": [
    "store_df.state.unique()"
   ]
  },
  {
   "cell_type": "code",
   "execution_count": 34,
   "metadata": {
    "execution": {
     "iopub.execute_input": "2022-05-23T14:10:42.307483Z",
     "iopub.status.busy": "2022-05-23T14:10:42.307283Z",
     "iopub.status.idle": "2022-05-23T14:10:42.318526Z",
     "shell.execute_reply": "2022-05-23T14:10:42.317957Z",
     "shell.execute_reply.started": "2022-05-23T14:10:42.307458Z"
    }
   },
   "outputs": [],
   "source": [
    "hol_df.type.unique()"
   ]
  },
  {
   "cell_type": "code",
   "execution_count": 35,
   "metadata": {
    "execution": {
     "iopub.execute_input": "2022-05-23T14:10:42.320020Z",
     "iopub.status.busy": "2022-05-23T14:10:42.319694Z",
     "iopub.status.idle": "2022-05-23T14:10:42.330713Z",
     "shell.execute_reply": "2022-05-23T14:10:42.330056Z",
     "shell.execute_reply.started": "2022-05-23T14:10:42.319985Z"
    }
   },
   "outputs": [],
   "source": [
    "# renaming a column, since tranining data also has a column 'type' helps for clear merge.\n",
    "hol_df.rename(columns={'type': 'day_nature'},\n",
    "          inplace=True, errors='raise')\n"
   ]
  },
  {
   "cell_type": "code",
   "execution_count": 36,
   "metadata": {
    "execution": {
     "iopub.execute_input": "2022-05-23T14:10:42.332183Z",
     "iopub.status.busy": "2022-05-23T14:10:42.331924Z",
     "iopub.status.idle": "2022-05-23T14:10:42.353987Z",
     "shell.execute_reply": "2022-05-23T14:10:42.353364Z",
     "shell.execute_reply.started": "2022-05-23T14:10:42.332147Z"
    }
   },
   "outputs": [],
   "source": [
    "# only 1 national name Ecuador\n",
    "hol_df[hol_df.locale=='National'].head(3)"
   ]
  },
  {
   "cell_type": "code",
   "execution_count": 37,
   "metadata": {
    "execution": {
     "iopub.execute_input": "2022-05-23T14:10:42.355623Z",
     "iopub.status.busy": "2022-05-23T14:10:42.355087Z",
     "iopub.status.idle": "2022-05-23T14:10:42.369115Z",
     "shell.execute_reply": "2022-05-23T14:10:42.368463Z",
     "shell.execute_reply.started": "2022-05-23T14:10:42.355587Z"
    }
   },
   "outputs": [],
   "source": [
    "# creating different data frames with different holidays to merge\n",
    "holiday_loc = hol_df[hol_df.locale == 'Local']\n",
    "holiday_reg = hol_df[hol_df.locale == 'Regional']\n",
    "holiday_nat = hol_df[hol_df.locale == 'National']\n"
   ]
  },
  {
   "cell_type": "code",
   "execution_count": 38,
   "metadata": {
    "execution": {
     "iopub.execute_input": "2022-05-23T14:10:42.370914Z",
     "iopub.status.busy": "2022-05-23T14:10:42.370468Z",
     "iopub.status.idle": "2022-05-23T14:10:42.385618Z",
     "shell.execute_reply": "2022-05-23T14:10:42.384874Z",
     "shell.execute_reply.started": "2022-05-23T14:10:42.370882Z"
    }
   },
   "outputs": [],
   "source": [
    "holiday_loc.rename(columns={'locale_name': 'city'},\n",
    "          inplace=True, errors='raise')\n",
    "holiday_reg.rename(columns={'locale_name': 'state'},\n",
    "          inplace=True, errors='raise')"
   ]
  },
  {
   "cell_type": "code",
   "execution_count": 39,
   "metadata": {
    "execution": {
     "iopub.execute_input": "2022-05-23T14:10:42.387379Z",
     "iopub.status.busy": "2022-05-23T14:10:42.386677Z",
     "iopub.status.idle": "2022-05-23T14:10:42.411933Z",
     "shell.execute_reply": "2022-05-23T14:10:42.411321Z",
     "shell.execute_reply.started": "2022-05-23T14:10:42.387346Z"
    }
   },
   "outputs": [],
   "source": [
    "holiday_loc"
   ]
  },
  {
   "cell_type": "code",
   "execution_count": 40,
   "metadata": {
    "execution": {
     "iopub.execute_input": "2022-05-23T14:10:42.413565Z",
     "iopub.status.busy": "2022-05-23T14:10:42.413325Z",
     "iopub.status.idle": "2022-05-23T14:10:51.596032Z",
     "shell.execute_reply": "2022-05-23T14:10:51.595180Z",
     "shell.execute_reply.started": "2022-05-23T14:10:42.413536Z"
    }
   },
   "outputs": [],
   "source": [
    "train_df = pd.merge(train_df, holiday_loc, on=['date', 'city'], how='left') \n",
    "train_df = train_df[~((train_df.day_nature == 'Holiday') & (train_df.transferred == False))]\n",
    "train_df.drop(['day_nature', 'locale', 'description','transferred'], axis=1, inplace=True)\n",
    "train_df = pd.merge(train_df, holiday_reg, on=['date', 'state'], how='left') \n",
    "train_df = train_df[~((train_df.day_nature == 'Holiday') & (train_df.transferred == False))]\n",
    "train_df.drop(['day_nature', 'locale', 'description','transferred'], axis=1, inplace=True)\n",
    "train_df = pd.merge(train_df, holiday_nat, on=['date'], how='left') \n",
    "train_df = train_df[~((train_df.day_nature == 'Holiday') & (train_df.transferred == False))]\n",
    "train_df.drop(['day_nature', 'locale', 'description','transferred'], axis=1, inplace=True)"
   ]
  },
  {
   "cell_type": "code",
   "execution_count": 41,
   "metadata": {
    "execution": {
     "iopub.execute_input": "2022-05-23T14:10:51.597771Z",
     "iopub.status.busy": "2022-05-23T14:10:51.597360Z",
     "iopub.status.idle": "2022-05-23T14:10:51.701770Z",
     "shell.execute_reply": "2022-05-23T14:10:51.700835Z",
     "shell.execute_reply.started": "2022-05-23T14:10:51.597733Z"
    }
   },
   "outputs": [],
   "source": [
    "train_df.sample(10)"
   ]
  },
  {
   "cell_type": "code",
   "execution_count": 42,
   "metadata": {
    "execution": {
     "iopub.execute_input": "2022-05-23T14:10:51.703868Z",
     "iopub.status.busy": "2022-05-23T14:10:51.703264Z",
     "iopub.status.idle": "2022-05-23T14:10:51.807634Z",
     "shell.execute_reply": "2022-05-23T14:10:51.806566Z",
     "shell.execute_reply.started": "2022-05-23T14:10:51.703835Z"
    }
   },
   "outputs": [],
   "source": [
    "train_df.drop(['date', 'family', 'month', 'day','city','state','type', 'cluster', 'locale_name', 'year'],axis=1, inplace=True)\n"
   ]
  },
  {
   "cell_type": "markdown",
   "metadata": {},
   "source": [
    "# Preprocessing"
   ]
  },
  {
   "cell_type": "code",
   "execution_count": 43,
   "metadata": {
    "execution": {
     "iopub.execute_input": "2022-05-23T14:10:51.809847Z",
     "iopub.status.busy": "2022-05-23T14:10:51.809517Z",
     "iopub.status.idle": "2022-05-23T14:10:51.814986Z",
     "shell.execute_reply": "2022-05-23T14:10:51.813728Z",
     "shell.execute_reply.started": "2022-05-23T14:10:51.809801Z"
    }
   },
   "outputs": [],
   "source": [
    "from sklearn.preprocessing import LabelEncoder\n",
    "# num_data = train_df.select_dtypes(include=[np.number])\n",
    "# cat_data = train_df.select_dtypes(exclude=[np.number])\n",
    "\n",
    "# cat_data"
   ]
  },
  {
   "cell_type": "code",
   "execution_count": 44,
   "metadata": {
    "execution": {
     "iopub.execute_input": "2022-05-23T14:10:51.817192Z",
     "iopub.status.busy": "2022-05-23T14:10:51.816929Z",
     "iopub.status.idle": "2022-05-23T14:10:53.139809Z",
     "shell.execute_reply": "2022-05-23T14:10:53.139018Z",
     "shell.execute_reply.started": "2022-05-23T14:10:51.817148Z"
    }
   },
   "outputs": [],
   "source": [
    "from sklearn.preprocessing import LabelEncoder\n",
    "\n",
    "label_encoder = LabelEncoder()\n",
    "# for column in cat_data:\n",
    "#     cat_data[column] = label_encoder.fit_transform(cat_data[column])\n",
    "train_df[\"day_name\"]=label_encoder.fit_transform(train_df[\"day_name\"])\n",
    "train_df[\"new_family\"]=label_encoder.fit_transform(train_df[\"new_family\"])\n",
    "train_df[\"day_name\"]\n",
    "train_df"
   ]
  },
  {
   "cell_type": "code",
   "execution_count": 45,
   "metadata": {
    "execution": {
     "iopub.execute_input": "2022-05-23T14:10:53.141690Z",
     "iopub.status.busy": "2022-05-23T14:10:53.141049Z",
     "iopub.status.idle": "2022-05-23T14:10:53.231303Z",
     "shell.execute_reply": "2022-05-23T14:10:53.230381Z",
     "shell.execute_reply.started": "2022-05-23T14:10:53.141642Z"
    }
   },
   "outputs": [],
   "source": [
    "# cat_data[\"day_name\"].unique()\n",
    "our_data=train_df.copy()\n"
   ]
  },
  {
   "cell_type": "code",
   "execution_count": 46,
   "metadata": {
    "execution": {
     "iopub.execute_input": "2022-05-23T14:10:53.232872Z",
     "iopub.status.busy": "2022-05-23T14:10:53.232555Z",
     "iopub.status.idle": "2022-05-23T14:10:53.414450Z",
     "shell.execute_reply": "2022-05-23T14:10:53.413367Z",
     "shell.execute_reply.started": "2022-05-23T14:10:53.232838Z"
    }
   },
   "outputs": [],
   "source": [
    "from sklearn.preprocessing import Normalizer\n",
    "transformer = Normalizer().fit(our_data) # fit does nothing.\n",
    "print(transformer)\n",
    "Normalizer(copy=True, norm='l2')\n",
    "print(transformer.transform(our_data))"
   ]
  },
  {
   "cell_type": "code",
   "execution_count": 47,
   "metadata": {
    "execution": {
     "iopub.execute_input": "2022-05-23T14:10:53.416032Z",
     "iopub.status.busy": "2022-05-23T14:10:53.415791Z",
     "iopub.status.idle": "2022-05-23T14:10:53.421331Z",
     "shell.execute_reply": "2022-05-23T14:10:53.420404Z",
     "shell.execute_reply.started": "2022-05-23T14:10:53.416002Z"
    }
   },
   "outputs": [],
   "source": [
    "print(transformer)"
   ]
  },
  {
   "cell_type": "code",
   "execution_count": 48,
   "metadata": {
    "execution": {
     "iopub.execute_input": "2022-05-23T14:10:53.422619Z",
     "iopub.status.busy": "2022-05-23T14:10:53.422401Z",
     "iopub.status.idle": "2022-05-23T14:10:53.571067Z",
     "shell.execute_reply": "2022-05-23T14:10:53.569835Z",
     "shell.execute_reply.started": "2022-05-23T14:10:53.422592Z"
    }
   },
   "outputs": [],
   "source": [
    "transformer.transform(our_data)"
   ]
  },
  {
   "cell_type": "code",
   "execution_count": 49,
   "metadata": {
    "execution": {
     "iopub.execute_input": "2022-05-23T14:10:53.572590Z",
     "iopub.status.busy": "2022-05-23T14:10:53.572354Z",
     "iopub.status.idle": "2022-05-23T14:10:53.589430Z",
     "shell.execute_reply": "2022-05-23T14:10:53.588440Z",
     "shell.execute_reply.started": "2022-05-23T14:10:53.572562Z"
    }
   },
   "outputs": [],
   "source": [
    "our_data"
   ]
  },
  {
   "cell_type": "code",
   "execution_count": 50,
   "metadata": {
    "execution": {
     "iopub.execute_input": "2022-05-23T14:10:53.591374Z",
     "iopub.status.busy": "2022-05-23T14:10:53.591078Z",
     "iopub.status.idle": "2022-05-23T14:10:54.068523Z",
     "shell.execute_reply": "2022-05-23T14:10:54.067333Z",
     "shell.execute_reply.started": "2022-05-23T14:10:53.591337Z"
    }
   },
   "outputs": [],
   "source": [
    "# train_df = pd.get_dummies(train_df, columns = ['day_name','new_family'])\n",
    "# train_df.reset_index(inplace=True)\n",
    "# train_df.drop(['index'],axis=1, inplace=True)\n",
    "# train_df.head(2)\n",
    "# X_train=transformer.transform(our_data).copy()\n",
    "X_train=our_data\n",
    "\n",
    "print(X_train.shape)\n",
    "# X_train=pd.DataFrame(X_train,columns=[\"id\",\"store_nbr\",\"sales\",\"onpromotion\",\"day_name\",\"new_family\"])\n",
    "print(X_train.shape)\n",
    "X_train.drop(['sales'],axis=1, inplace=True)\n",
    "Y_train=train_df['sales']\n",
    "\n",
    "x_train, x_test, y_train, y_test = train_test_split(\n",
    "X_train, Y_train, test_size = 0.25, random_state = 0)\n"
   ]
  },
  {
   "cell_type": "code",
   "execution_count": 51,
   "metadata": {
    "execution": {
     "iopub.execute_input": "2022-05-23T14:10:54.070075Z",
     "iopub.status.busy": "2022-05-23T14:10:54.069849Z",
     "iopub.status.idle": "2022-05-23T14:10:54.083199Z",
     "shell.execute_reply": "2022-05-23T14:10:54.082284Z",
     "shell.execute_reply.started": "2022-05-23T14:10:54.070049Z"
    }
   },
   "outputs": [],
   "source": [
    "X_train"
   ]
  },
  {
   "cell_type": "code",
   "execution_count": 52,
   "metadata": {
    "execution": {
     "iopub.execute_input": "2022-05-23T14:10:54.085150Z",
     "iopub.status.busy": "2022-05-23T14:10:54.084815Z",
     "iopub.status.idle": "2022-05-23T14:10:54.628072Z",
     "shell.execute_reply": "2022-05-23T14:10:54.626936Z",
     "shell.execute_reply.started": "2022-05-23T14:10:54.085095Z"
    }
   },
   "outputs": [],
   "source": [
    "X_train=train_df.copy()\n",
    "\n",
    "X_train.drop(['sales'],axis=1, inplace=True)\n",
    "Y_train=train_df['sales']\n",
    "\n",
    "x_train, x_test, y_train, y_test = train_test_split(\n",
    "X_train, Y_train, test_size = 0.25, random_state = 0)\n"
   ]
  },
  {
   "cell_type": "code",
   "execution_count": 53,
   "metadata": {
    "execution": {
     "iopub.execute_input": "2022-05-23T14:10:54.629878Z",
     "iopub.status.busy": "2022-05-23T14:10:54.629574Z",
     "iopub.status.idle": "2022-05-23T14:10:54.695021Z",
     "shell.execute_reply": "2022-05-23T14:10:54.694192Z",
     "shell.execute_reply.started": "2022-05-23T14:10:54.629840Z"
    }
   },
   "outputs": [],
   "source": [
    "test_df['day_name'] = pd.to_datetime(test_df['date']).dt.day_name()\n",
    "test_df['new_family'] = test_df['family'].map(family_map)\n",
    "test_df.drop(['date','family'],axis=1, inplace=True)\n",
    "\n",
    "test_df[\"day_name\"]=label_encoder.fit_transform(test_df[\"day_name\"])\n",
    "test_df[\"new_family\"]=label_encoder.fit_transform(test_df[\"new_family\"])\n",
    "\n",
    "test_df\n",
    "\n",
    "\n",
    "# test_df['day_name'] = pd.to_datetime(test_df['date']).dt.day_name()\n",
    "# test_df['new_family'] = test_df['family'].map(family_map)\n",
    "# test_df.drop(['date','family'],axis=1, inplace=True)\n",
    "# test_df = pd.get_dummies(test_df, columns = ['day_name','new_family'])\n",
    "# test_df.head(2)"
   ]
  },
  {
   "cell_type": "code",
   "execution_count": 54,
   "metadata": {
    "execution": {
     "iopub.execute_input": "2022-05-23T14:10:54.696877Z",
     "iopub.status.busy": "2022-05-23T14:10:54.696525Z",
     "iopub.status.idle": "2022-05-23T14:12:25.193220Z",
     "shell.execute_reply": "2022-05-23T14:12:25.192202Z",
     "shell.execute_reply.started": "2022-05-23T14:10:54.696825Z"
    }
   },
   "outputs": [],
   "source": [
    "# regr = LinearRegression()\n",
    "regr = RandomForestRegressor(n_estimators=15,random_state=10)\n",
    "regr.fit(x_train, y_train)"
   ]
  },
  {
   "cell_type": "code",
   "execution_count": 55,
   "metadata": {
    "execution": {
     "iopub.execute_input": "2022-05-23T14:12:25.194955Z",
     "iopub.status.busy": "2022-05-23T14:12:25.194648Z",
     "iopub.status.idle": "2022-05-23T14:12:33.975982Z",
     "shell.execute_reply": "2022-05-23T14:12:33.975056Z",
     "shell.execute_reply.started": "2022-05-23T14:12:25.194913Z"
    }
   },
   "outputs": [],
   "source": [
    "modul_predictions=regr.predict(x_test)\n",
    "modul_predictions = np.where(modul_predictions<0, 0, modul_predictions)\n",
    "modul_predictions"
   ]
  },
  {
   "cell_type": "code",
   "execution_count": 56,
   "metadata": {
    "execution": {
     "iopub.execute_input": "2022-05-23T14:12:33.977719Z",
     "iopub.status.busy": "2022-05-23T14:12:33.977385Z",
     "iopub.status.idle": "2022-05-23T14:12:34.012379Z",
     "shell.execute_reply": "2022-05-23T14:12:34.011213Z",
     "shell.execute_reply.started": "2022-05-23T14:12:33.977677Z"
    }
   },
   "outputs": [],
   "source": [
    "mean_squared_log_error(y_test, modul_predictions, squared=False)"
   ]
  },
  {
   "cell_type": "code",
   "execution_count": 57,
   "metadata": {
    "execution": {
     "iopub.execute_input": "2022-05-23T14:12:34.013955Z",
     "iopub.status.busy": "2022-05-23T14:12:34.013664Z",
     "iopub.status.idle": "2022-05-23T14:12:34.034669Z",
     "shell.execute_reply": "2022-05-23T14:12:34.033545Z",
     "shell.execute_reply.started": "2022-05-23T14:12:34.013921Z"
    }
   },
   "outputs": [],
   "source": [
    "submission_2=test_df.copy()\n",
    "submission_2['sales'] = pd.DataFrame(modul_predictions)\n",
    "submission_2"
   ]
  },
  {
   "cell_type": "code",
   "execution_count": 58,
   "metadata": {
    "execution": {
     "iopub.execute_input": "2022-05-23T14:12:34.036785Z",
     "iopub.status.busy": "2022-05-23T14:12:34.035953Z",
     "iopub.status.idle": "2022-05-23T14:12:34.050653Z",
     "shell.execute_reply": "2022-05-23T14:12:34.049933Z",
     "shell.execute_reply.started": "2022-05-23T14:12:34.036736Z"
    }
   },
   "outputs": [],
   "source": [
    "sample_df = submission_2[['id', 'sales']]\n",
    "sample_df.sales = np.where(sample_df.sales<0, 0, sample_df.sales)\n",
    "sample_df.head(3)"
   ]
  },
  {
   "cell_type": "code",
   "execution_count": null,
   "metadata": {},
   "outputs": [],
   "source": []
  },
  {
   "cell_type": "code",
   "execution_count": 59,
   "metadata": {
    "execution": {
     "iopub.execute_input": "2022-05-23T14:12:34.052056Z",
     "iopub.status.busy": "2022-05-23T14:12:34.051801Z",
     "iopub.status.idle": "2022-05-23T14:12:43.363037Z",
     "shell.execute_reply": "2022-05-23T14:12:43.362120Z",
     "shell.execute_reply.started": "2022-05-23T14:12:34.052026Z"
    }
   },
   "outputs": [],
   "source": [
    "from xgboost import XGBRegressor\n",
    "\n",
    "classifier_rf = XGBRegressor(n_estimators=10,random_state=0 )\n",
    "\n",
    "classifier_rf.fit(X_train, Y_train)"
   ]
  },
  {
   "cell_type": "code",
   "execution_count": 60,
   "metadata": {
    "execution": {
     "iopub.execute_input": "2022-05-23T14:12:43.368979Z",
     "iopub.status.busy": "2022-05-23T14:12:43.368726Z",
     "iopub.status.idle": "2022-05-23T14:12:43.399749Z",
     "shell.execute_reply": "2022-05-23T14:12:43.393816Z",
     "shell.execute_reply.started": "2022-05-23T14:12:43.368950Z"
    }
   },
   "outputs": [],
   "source": [
    "OurSales=classifier_rf.predict(test_df)\n",
    "OurSales"
   ]
  },
  {
   "cell_type": "code",
   "execution_count": 61,
   "metadata": {
    "execution": {
     "iopub.execute_input": "2022-05-23T14:12:43.402272Z",
     "iopub.status.busy": "2022-05-23T14:12:43.401617Z",
     "iopub.status.idle": "2022-05-23T14:12:43.629547Z",
     "shell.execute_reply": "2022-05-23T14:12:43.628225Z",
     "shell.execute_reply.started": "2022-05-23T14:12:43.402227Z"
    }
   },
   "outputs": [],
   "source": [
    "mean_squared_log_error(y_test, OurSales, squared=False)"
   ]
  },
  {
   "cell_type": "code",
   "execution_count": null,
   "metadata": {
    "execution": {
     "iopub.status.busy": "2022-05-23T14:12:43.630468Z",
     "iopub.status.idle": "2022-05-23T14:12:43.630858Z",
     "shell.execute_reply": "2022-05-23T14:12:43.630691Z",
     "shell.execute_reply.started": "2022-05-23T14:12:43.630633Z"
    }
   },
   "outputs": [],
   "source": [
    "RegModele=LinearRegression()\n",
    "\n",
    "RegModele.fit(X_train,Y_train)"
   ]
  },
  {
   "cell_type": "code",
   "execution_count": null,
   "metadata": {
    "execution": {
     "iopub.status.busy": "2022-05-23T14:12:43.632081Z",
     "iopub.status.idle": "2022-05-23T14:12:43.632542Z",
     "shell.execute_reply": "2022-05-23T14:12:43.632378Z",
     "shell.execute_reply.started": "2022-05-23T14:12:43.632359Z"
    }
   },
   "outputs": [],
   "source": [
    "sales=RegModele.predict(test_df)\n",
    "sales"
   ]
  },
  {
   "cell_type": "code",
   "execution_count": null,
   "metadata": {
    "execution": {
     "iopub.status.busy": "2022-05-23T14:12:43.633979Z",
     "iopub.status.idle": "2022-05-23T14:12:43.634376Z",
     "shell.execute_reply": "2022-05-23T14:12:43.634175Z",
     "shell.execute_reply.started": "2022-05-23T14:12:43.634150Z"
    }
   },
   "outputs": [],
   "source": [
    "sample_df.to_csv('submission.csv' , index = False)"
   ]
  },
  {
   "cell_type": "code",
   "execution_count": null,
   "metadata": {
    "execution": {
     "iopub.status.busy": "2022-05-23T14:12:43.635308Z",
     "iopub.status.idle": "2022-05-23T14:12:43.635612Z",
     "shell.execute_reply": "2022-05-23T14:12:43.635470Z",
     "shell.execute_reply.started": "2022-05-23T14:12:43.635454Z"
    }
   },
   "outputs": [],
   "source": [
    " train_sizes, train_scores, test_scores = learning_curve(RandomForestRegressor(), x_train, y_train, cv=10, scoring='accuracy', n_jobs=-1, train_sizes=np.linspace(0.01, 1.0, 50))"
   ]
  },
  {
   "cell_type": "code",
   "execution_count": null,
   "metadata": {
    "execution": {
     "iopub.status.busy": "2022-05-23T14:12:43.637654Z",
     "iopub.status.idle": "2022-05-23T14:12:43.638422Z",
     "shell.execute_reply": "2022-05-23T14:12:43.638228Z",
     "shell.execute_reply.started": "2022-05-23T14:12:43.638204Z"
    }
   },
   "outputs": [],
   "source": [
    "    train_mean = np.mean(train_scores, axis=1)\n",
    "    train_std = np.std(train_scores, axis=1)\n",
    "\n",
    "    test_mean = np.mean(test_scores, axis=1)\n",
    "    test_std = np.std(test_scores, axis=1)"
   ]
  },
  {
   "cell_type": "code",
   "execution_count": null,
   "metadata": {
    "execution": {
     "iopub.status.busy": "2022-05-23T14:12:43.639372Z",
     "iopub.status.idle": "2022-05-23T14:12:43.639678Z",
     "shell.execute_reply": "2022-05-23T14:12:43.639536Z",
     "shell.execute_reply.started": "2022-05-23T14:12:43.639519Z"
    }
   },
   "outputs": [],
   "source": [
    "    plt.subplots(1, figsize=(10,10))\n",
    "    plt.plot(train_sizes, train_mean, '--', color=\"#111111\",  label=\"Training score\")\n",
    "    plt.plot(train_sizes, test_mean, color=\"#111111\", label=\"Cross-validation score\")\n",
    "\n",
    "    plt.fill_between(train_sizes, train_mean - train_std, train_mean + train_std, color=\"#DDDDDD\")\n",
    "    plt.fill_between(train_sizes, test_mean - test_std, test_mean + test_std, color=\"#DDDDDD\")\n",
    "\n",
    "    plt.title(\"Learning Curve\")\n",
    "    plt.xlabel(\"Training Set Size\"), plt.ylabel(\"Accuracy Score\"), plt.legend(loc=\"best\")\n",
    "    plt.tight_layout()\n",
    "    plt.show()"
   ]
  }
 ],
 "metadata": {
  "kernelspec": {
   "display_name": "Python 3 (ipykernel)",
   "language": "python",
   "name": "python3"
  },
  "language_info": {
   "codemirror_mode": {
    "name": "ipython",
    "version": 3
   },
   "file_extension": ".py",
   "mimetype": "text/x-python",
   "name": "python",
   "nbconvert_exporter": "python",
   "pygments_lexer": "ipython3",
   "version": "3.9.12"
  }
 },
 "nbformat": 4,
 "nbformat_minor": 4
}
